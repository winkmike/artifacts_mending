{
 "cells": [
  {
   "cell_type": "code",
   "execution_count": 19,
   "metadata": {},
   "outputs": [],
   "source": [
    "import open3d as o3d\n",
    "import numpy as np"
   ]
  },
  {
   "cell_type": "code",
   "execution_count": 20,
   "metadata": {},
   "outputs": [],
   "source": [
    "piece1_3d_corners_path = \"./output/piece-1-corner-3d.txt\"\n",
    "piece2_3d_corners_path = \"./output/piece-2-corner-3d.txt\"\n",
    "\n",
    "piece1_ply_path = \"./data/piece-1-txt/piece-1.ply\"\n",
    "piece2_ply_path = \"./data/piece-2-txt/piece-2.ply\""
   ]
  },
  {
   "cell_type": "code",
   "execution_count": 29,
   "metadata": {},
   "outputs": [],
   "source": [
    "def read_3d_corners_txt(txt_path): \n",
    "    f = open(txt_path,'r')\n",
    "    lines = f.readlines()\n",
    "\n",
    "    corners = [] \n",
    "    for line in lines: \n",
    "        corner = line.split()\n",
    "        corners.append(corner)\n",
    "\n",
    "    return np.array(corners)\n",
    "\n",
    "def visualize_3d_corners(corners): \n",
    "    points = corners[:, :3]\n",
    "    colors = corners[:, 3:]\n",
    "\n",
    "    pcd = o3d.geometry.PointCloud()\n",
    "    pcd.points = o3d.utility.Vector3dVector(points)\n",
    "    # pcd.colors = o3d.utility.Vector3dVector(colors)\n",
    "\n",
    "    o3d.visualization.draw_geometries([pcd])"
   ]
  },
  {
   "cell_type": "code",
   "execution_count": 25,
   "metadata": {},
   "outputs": [],
   "source": [
    "corners_1 = np.array(read_3d_corners_txt(piece1_3d_corners_path))\n",
    "corners_2 = np.array(read_3d_corners_txt(piece2_3d_corners_path))"
   ]
  },
  {
   "cell_type": "code",
   "execution_count": 26,
   "metadata": {},
   "outputs": [],
   "source": [
    "pc1 = o3d.io.read_point_cloud(piece1_ply_path)\n",
    "pc2 = o3d.io.read_point_cloud(piece2_ply_path)"
   ]
  },
  {
   "cell_type": "code",
   "execution_count": 28,
   "metadata": {},
   "outputs": [],
   "source": [
    "o3d.visualization.draw_geometries([pc1])"
   ]
  },
  {
   "cell_type": "code",
   "execution_count": 30,
   "metadata": {},
   "outputs": [],
   "source": [
    "visualize_3d_corners(corners_1)"
   ]
  },
  {
   "cell_type": "code",
   "execution_count": null,
   "metadata": {},
   "outputs": [],
   "source": []
  }
 ],
 "metadata": {
  "kernelspec": {
   "display_name": "artifacts_mending",
   "language": "python",
   "name": "python3"
  },
  "language_info": {
   "codemirror_mode": {
    "name": "ipython",
    "version": 3
   },
   "file_extension": ".py",
   "mimetype": "text/x-python",
   "name": "python",
   "nbconvert_exporter": "python",
   "pygments_lexer": "ipython3",
   "version": "3.9.21"
  }
 },
 "nbformat": 4,
 "nbformat_minor": 2
}
